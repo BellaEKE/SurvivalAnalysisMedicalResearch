{
  "nbformat": 4,
  "nbformat_minor": 0,
  "metadata": {
    "colab": {
      "provenance": [],
      "name": "survivalcurve2.ipynb",
      "authorship_tag": "ABX9TyPHSataIraAQinNrBrjWC9L",
      "include_colab_link": true
    },
    "kernelspec": {
      "name": "python3",
      "display_name": "Python 3"
    },
    "language_info": {
      "name": "python"
    }
  },
  "cells": [
    {
      "cell_type": "markdown",
      "metadata": {
        "id": "view-in-github",
        "colab_type": "text"
      },
      "source": [
        "<a href=\"https://colab.research.google.com/github/BellaEKE/SurvivalAnalysisMedicalResearch/blob/main/survivalcurve2.ipynb\" target=\"_parent\"><img src=\"https://colab.research.google.com/assets/colab-badge.svg\" alt=\"Open In Colab\"/></a>"
      ]
    },
    {
      "cell_type": "code",
      "execution_count": null,
      "metadata": {
        "colab": {
          "base_uri": "https://localhost:8080/"
        },
        "id": "z6HaZZVTYHXN",
        "outputId": "caa8c6d9-3354-4477-d639-2eb653ebeaf3"
      },
      "outputs": [
        {
          "output_type": "stream",
          "name": "stdout",
          "text": [
            "Looking in indexes: https://pypi.org/simple, https://us-python.pkg.dev/colab-wheels/public/simple/\n",
            "Collecting lifelines\n",
            "  Downloading lifelines-0.27.7-py3-none-any.whl (409 kB)\n",
            "\u001b[2K     \u001b[90m━━━━━━━━━━━━━━━━━━━━━━━━━━━━━━━━━━━━━━\u001b[0m \u001b[32m409.4/409.4 kB\u001b[0m \u001b[31m10.2 MB/s\u001b[0m eta \u001b[36m0:00:00\u001b[0m\n",
            "\u001b[?25hRequirement already satisfied: numpy>=1.14.0 in /usr/local/lib/python3.10/dist-packages (from lifelines) (1.22.4)\n",
            "Requirement already satisfied: scipy>=1.2.0 in /usr/local/lib/python3.10/dist-packages (from lifelines) (1.10.1)\n",
            "Requirement already satisfied: pandas>=1.0.0 in /usr/local/lib/python3.10/dist-packages (from lifelines) (1.5.3)\n",
            "Requirement already satisfied: matplotlib>=3.0 in /usr/local/lib/python3.10/dist-packages (from lifelines) (3.7.1)\n",
            "Requirement already satisfied: autograd>=1.5 in /usr/local/lib/python3.10/dist-packages (from lifelines) (1.5)\n",
            "Collecting autograd-gamma>=0.3 (from lifelines)\n",
            "  Downloading autograd-gamma-0.5.0.tar.gz (4.0 kB)\n",
            "  Preparing metadata (setup.py) ... \u001b[?25l\u001b[?25hdone\n",
            "Collecting formulaic>=0.2.2 (from lifelines)\n",
            "  Downloading formulaic-0.6.1-py3-none-any.whl (82 kB)\n",
            "\u001b[2K     \u001b[90m━━━━━━━━━━━━━━━━━━━━━━━━━━━━━━━━━━━━━━━━\u001b[0m \u001b[32m82.3/82.3 kB\u001b[0m \u001b[31m8.5 MB/s\u001b[0m eta \u001b[36m0:00:00\u001b[0m\n",
            "\u001b[?25hRequirement already satisfied: future>=0.15.2 in /usr/local/lib/python3.10/dist-packages (from autograd>=1.5->lifelines) (0.18.3)\n",
            "Collecting astor>=0.8 (from formulaic>=0.2.2->lifelines)\n",
            "  Downloading astor-0.8.1-py2.py3-none-any.whl (27 kB)\n",
            "Collecting interface-meta>=1.2.0 (from formulaic>=0.2.2->lifelines)\n",
            "  Downloading interface_meta-1.3.0-py3-none-any.whl (14 kB)\n",
            "Requirement already satisfied: typing-extensions>=4.2.0 in /usr/local/lib/python3.10/dist-packages (from formulaic>=0.2.2->lifelines) (4.5.0)\n",
            "Requirement already satisfied: wrapt>=1.0 in /usr/local/lib/python3.10/dist-packages (from formulaic>=0.2.2->lifelines) (1.14.1)\n",
            "Requirement already satisfied: contourpy>=1.0.1 in /usr/local/lib/python3.10/dist-packages (from matplotlib>=3.0->lifelines) (1.0.7)\n",
            "Requirement already satisfied: cycler>=0.10 in /usr/local/lib/python3.10/dist-packages (from matplotlib>=3.0->lifelines) (0.11.0)\n",
            "Requirement already satisfied: fonttools>=4.22.0 in /usr/local/lib/python3.10/dist-packages (from matplotlib>=3.0->lifelines) (4.39.3)\n",
            "Requirement already satisfied: kiwisolver>=1.0.1 in /usr/local/lib/python3.10/dist-packages (from matplotlib>=3.0->lifelines) (1.4.4)\n",
            "Requirement already satisfied: packaging>=20.0 in /usr/local/lib/python3.10/dist-packages (from matplotlib>=3.0->lifelines) (23.1)\n",
            "Requirement already satisfied: pillow>=6.2.0 in /usr/local/lib/python3.10/dist-packages (from matplotlib>=3.0->lifelines) (8.4.0)\n",
            "Requirement already satisfied: pyparsing>=2.3.1 in /usr/local/lib/python3.10/dist-packages (from matplotlib>=3.0->lifelines) (3.0.9)\n",
            "Requirement already satisfied: python-dateutil>=2.7 in /usr/local/lib/python3.10/dist-packages (from matplotlib>=3.0->lifelines) (2.8.2)\n",
            "Requirement already satisfied: pytz>=2020.1 in /usr/local/lib/python3.10/dist-packages (from pandas>=1.0.0->lifelines) (2022.7.1)\n",
            "Requirement already satisfied: six>=1.5 in /usr/local/lib/python3.10/dist-packages (from python-dateutil>=2.7->matplotlib>=3.0->lifelines) (1.16.0)\n",
            "Building wheels for collected packages: autograd-gamma\n",
            "  Building wheel for autograd-gamma (setup.py) ... \u001b[?25l\u001b[?25hdone\n",
            "  Created wheel for autograd-gamma: filename=autograd_gamma-0.5.0-py3-none-any.whl size=4031 sha256=9b64dd0c39062b57d64d1db7bb4f009b0a830a0a39e25606e56f129cef14f7b7\n",
            "  Stored in directory: /root/.cache/pip/wheels/25/cc/e0/ef2969164144c899fedb22b338f6703e2b9cf46eeebf254991\n",
            "Successfully built autograd-gamma\n",
            "Installing collected packages: interface-meta, astor, autograd-gamma, formulaic, lifelines\n",
            "Successfully installed astor-0.8.1 autograd-gamma-0.5.0 formulaic-0.6.1 interface-meta-1.3.0 lifelines-0.27.7\n"
          ]
        }
      ],
      "source": [
        "!pip install lifelines\n",
        "from lifelines import KaplanMeierFitter\n",
        "from lifelines.statistics import logrank_test\n"
      ]
    },
    {
      "cell_type": "markdown",
      "source": [
        "SURVIVAL ANALYSIS: EVENT OF INTEREST: \"Time to Treatment Initiation,\" specifically, the time from the first contact or request for a substance use treatment service until the client was admitted and the first clinical substance use treatment service was provided.\n"
      ],
      "metadata": {
        "id": "O6k9L3XxLBeX"
      }
    },
    {
      "cell_type": "markdown",
      "source": [
        "EVENT for both groups=1 as they both started the treatment. So our investigation of survival focuses on the duration of the wait time(how long they had to wait and how does it affect survival)"
      ],
      "metadata": {
        "id": "z_Rku9ZrK_lf"
      }
    },
    {
      "cell_type": "code",
      "source": [
        "import pandas as pd\n",
        "import numpy as np\n"
      ],
      "metadata": {
        "id": "vvfcMr1YYpEr"
      },
      "execution_count": null,
      "outputs": []
    },
    {
      "cell_type": "code",
      "source": [
        "# Load the dataset (replace 'your_dataset.csv' with the actual filename)\n",
        "df=pd.read_csv(r'/content/treatments_2017-2020.csv', nrows=10000)\n",
        "df"
      ],
      "metadata": {
        "colab": {
          "base_uri": "https://localhost:8080/",
          "height": 991
        },
        "id": "-7PF_IK7siNw",
        "outputId": "5b48f621-e248-404d-b546-21575626a80e"
      },
      "execution_count": null,
      "outputs": [
        {
          "output_type": "execute_result",
          "data": {
            "text/plain": [
              "      REASON  FRSTUSE2  EMPLOY_D  MARSTAT  PRIMINC  TRNQFLG  NOPRIOR  PREG  \\\n",
              "0          6        -9         1       -9       -9        0        0     2   \n",
              "1          4         6         4       -9       -9        0        1     1   \n",
              "2          3         5         3        1        2        0        1     1   \n",
              "3          2         3         4       -9       -9        0        1     2   \n",
              "4          3         7         4        4        4        0        1     2   \n",
              "...      ...       ...       ...      ...      ...      ...      ...   ...   \n",
              "9995       1        -9         4       -9       -9        0        0     1   \n",
              "9996       4        -9         4       -9       -9        0        0     1   \n",
              "9997       4         4         4       -9       -9        0        0     1   \n",
              "9998       1        -9         4       -9       -9        0        0     1   \n",
              "9999       4         3         4       -9       -9        0        0     1   \n",
              "\n",
              "      METHUSE  FRSTUSE3  ...  METHFLG  FREQ3       CASEID  OTHERFLG  \\\n",
              "0           1        -9  ...        0     -9  20171463590         0   \n",
              "1           1        -9  ...        0     -9  20171390962         0   \n",
              "2           1        -9  ...        0     -9  20171519498         0   \n",
              "3           1        -9  ...        0     -9  20171346634         0   \n",
              "4           1         4  ...        0      3  20171324167         1   \n",
              "...       ...       ...  ...      ...    ...          ...       ...   \n",
              "9995       -9        -9  ...        0     -9  20171592338         0   \n",
              "9996        2        -9  ...        0     -9  20171399007         0   \n",
              "9997        2        -9  ...        0     -9  20171595452         0   \n",
              "9998        2        -9  ...        0     -9  20171416717         0   \n",
              "9999        2        -9  ...        0     -9  20171532260         0   \n",
              "\n",
              "                                          cbsatitle  \\\n",
              "0     San Luis Obispo-Paso Robles-Arroyo Grande, CA   \n",
              "1                                         Chico, CA   \n",
              "2                                     Anchorage, AK   \n",
              "3                 San Francisco-Oakland-Hayward, CA   \n",
              "4             New York-Newark-Jersey City, NY-NJ-PA   \n",
              "...                                             ...   \n",
              "9995             Los Angeles-Long Beach-Anaheim, CA   \n",
              "9996        Sacramento--Roseville--Arden-Arcade, CA   \n",
              "9997                    Detroit-Warren-Dearborn, MI   \n",
              "9998                         San Diego-Carlsbad, CA   \n",
              "9999        Sacramento--Roseville--Arden-Arcade, CA   \n",
              "\n",
              "      metropolitanmicropolitanstatis  \\\n",
              "0      Metropolitan Statistical Area   \n",
              "1      Metropolitan Statistical Area   \n",
              "2      Metropolitan Statistical Area   \n",
              "3      Metropolitan Statistical Area   \n",
              "4      Metropolitan Statistical Area   \n",
              "...                              ...   \n",
              "9995   Metropolitan Statistical Area   \n",
              "9996   Metropolitan Statistical Area   \n",
              "9997   Metropolitan Statistical Area   \n",
              "9998   Metropolitan Statistical Area   \n",
              "9999   Metropolitan Statistical Area   \n",
              "\n",
              "                                 countycountyequivalent  \\\n",
              "0                                San Luis Obispo County   \n",
              "1                                          Butte County   \n",
              "2     Matanuska-Susitna Borough, Anchorage Municipality   \n",
              "3     Contra Costa County, San Francisco County, San...   \n",
              "4     New York County, Orange County, Hunterdon Coun...   \n",
              "...                                                 ...   \n",
              "9995                  Orange County, Los Angeles County   \n",
              "9996  Placer County, El Dorado County, Sacramento Co...   \n",
              "9997  St. Clair County, Lapeer County, Wayne County,...   \n",
              "9998                                   San Diego County   \n",
              "9999  Placer County, El Dorado County, Sacramento Co...   \n",
              "\n",
              "                               statename  \\\n",
              "0                             California   \n",
              "1                             California   \n",
              "2                                 Alaska   \n",
              "3                             California   \n",
              "4     New Jersey, New York, Pennsylvania   \n",
              "...                                  ...   \n",
              "9995                          California   \n",
              "9996                          California   \n",
              "9997                            Michigan   \n",
              "9998                          California   \n",
              "9999                          California   \n",
              "\n",
              "                                         fipscountycode  centraloutlyingcounty  \n",
              "0                                                    79                Central  \n",
              "1                                                     7                Central  \n",
              "2                                               170, 20      Central, Outlying  \n",
              "3                                     1, 13, 75, 81, 41      Central, Outlying  \n",
              "4     79, 87, 13, 81, 119, 25, 29, 59, 3, 85, 5, 61,...      Central, Outlying  \n",
              "...                                                 ...                    ...  \n",
              "9995                                             59, 37                Central  \n",
              "9996                                    61, 113, 67, 17      Central, Outlying  \n",
              "9997                          87, 93, 147, 99, 163, 125      Outlying, Central  \n",
              "9998                                                 73                Central  \n",
              "9999                                    61, 113, 67, 17      Central, Outlying  \n",
              "\n",
              "[10000 rows x 82 columns]"
            ],
            "text/html": [
              "\n",
              "  <div id=\"df-339905e4-d580-4ed9-a4d7-56886352638e\">\n",
              "    <div class=\"colab-df-container\">\n",
              "      <div>\n",
              "<style scoped>\n",
              "    .dataframe tbody tr th:only-of-type {\n",
              "        vertical-align: middle;\n",
              "    }\n",
              "\n",
              "    .dataframe tbody tr th {\n",
              "        vertical-align: top;\n",
              "    }\n",
              "\n",
              "    .dataframe thead th {\n",
              "        text-align: right;\n",
              "    }\n",
              "</style>\n",
              "<table border=\"1\" class=\"dataframe\">\n",
              "  <thead>\n",
              "    <tr style=\"text-align: right;\">\n",
              "      <th></th>\n",
              "      <th>REASON</th>\n",
              "      <th>FRSTUSE2</th>\n",
              "      <th>EMPLOY_D</th>\n",
              "      <th>MARSTAT</th>\n",
              "      <th>PRIMINC</th>\n",
              "      <th>TRNQFLG</th>\n",
              "      <th>NOPRIOR</th>\n",
              "      <th>PREG</th>\n",
              "      <th>METHUSE</th>\n",
              "      <th>FRSTUSE3</th>\n",
              "      <th>...</th>\n",
              "      <th>METHFLG</th>\n",
              "      <th>FREQ3</th>\n",
              "      <th>CASEID</th>\n",
              "      <th>OTHERFLG</th>\n",
              "      <th>cbsatitle</th>\n",
              "      <th>metropolitanmicropolitanstatis</th>\n",
              "      <th>countycountyequivalent</th>\n",
              "      <th>statename</th>\n",
              "      <th>fipscountycode</th>\n",
              "      <th>centraloutlyingcounty</th>\n",
              "    </tr>\n",
              "  </thead>\n",
              "  <tbody>\n",
              "    <tr>\n",
              "      <th>0</th>\n",
              "      <td>6</td>\n",
              "      <td>-9</td>\n",
              "      <td>1</td>\n",
              "      <td>-9</td>\n",
              "      <td>-9</td>\n",
              "      <td>0</td>\n",
              "      <td>0</td>\n",
              "      <td>2</td>\n",
              "      <td>1</td>\n",
              "      <td>-9</td>\n",
              "      <td>...</td>\n",
              "      <td>0</td>\n",
              "      <td>-9</td>\n",
              "      <td>20171463590</td>\n",
              "      <td>0</td>\n",
              "      <td>San Luis Obispo-Paso Robles-Arroyo Grande, CA</td>\n",
              "      <td>Metropolitan Statistical Area</td>\n",
              "      <td>San Luis Obispo County</td>\n",
              "      <td>California</td>\n",
              "      <td>79</td>\n",
              "      <td>Central</td>\n",
              "    </tr>\n",
              "    <tr>\n",
              "      <th>1</th>\n",
              "      <td>4</td>\n",
              "      <td>6</td>\n",
              "      <td>4</td>\n",
              "      <td>-9</td>\n",
              "      <td>-9</td>\n",
              "      <td>0</td>\n",
              "      <td>1</td>\n",
              "      <td>1</td>\n",
              "      <td>1</td>\n",
              "      <td>-9</td>\n",
              "      <td>...</td>\n",
              "      <td>0</td>\n",
              "      <td>-9</td>\n",
              "      <td>20171390962</td>\n",
              "      <td>0</td>\n",
              "      <td>Chico, CA</td>\n",
              "      <td>Metropolitan Statistical Area</td>\n",
              "      <td>Butte County</td>\n",
              "      <td>California</td>\n",
              "      <td>7</td>\n",
              "      <td>Central</td>\n",
              "    </tr>\n",
              "    <tr>\n",
              "      <th>2</th>\n",
              "      <td>3</td>\n",
              "      <td>5</td>\n",
              "      <td>3</td>\n",
              "      <td>1</td>\n",
              "      <td>2</td>\n",
              "      <td>0</td>\n",
              "      <td>1</td>\n",
              "      <td>1</td>\n",
              "      <td>1</td>\n",
              "      <td>-9</td>\n",
              "      <td>...</td>\n",
              "      <td>0</td>\n",
              "      <td>-9</td>\n",
              "      <td>20171519498</td>\n",
              "      <td>0</td>\n",
              "      <td>Anchorage, AK</td>\n",
              "      <td>Metropolitan Statistical Area</td>\n",
              "      <td>Matanuska-Susitna Borough, Anchorage Municipality</td>\n",
              "      <td>Alaska</td>\n",
              "      <td>170, 20</td>\n",
              "      <td>Central, Outlying</td>\n",
              "    </tr>\n",
              "    <tr>\n",
              "      <th>3</th>\n",
              "      <td>2</td>\n",
              "      <td>3</td>\n",
              "      <td>4</td>\n",
              "      <td>-9</td>\n",
              "      <td>-9</td>\n",
              "      <td>0</td>\n",
              "      <td>1</td>\n",
              "      <td>2</td>\n",
              "      <td>1</td>\n",
              "      <td>-9</td>\n",
              "      <td>...</td>\n",
              "      <td>0</td>\n",
              "      <td>-9</td>\n",
              "      <td>20171346634</td>\n",
              "      <td>0</td>\n",
              "      <td>San Francisco-Oakland-Hayward, CA</td>\n",
              "      <td>Metropolitan Statistical Area</td>\n",
              "      <td>Contra Costa County, San Francisco County, San...</td>\n",
              "      <td>California</td>\n",
              "      <td>1, 13, 75, 81, 41</td>\n",
              "      <td>Central, Outlying</td>\n",
              "    </tr>\n",
              "    <tr>\n",
              "      <th>4</th>\n",
              "      <td>3</td>\n",
              "      <td>7</td>\n",
              "      <td>4</td>\n",
              "      <td>4</td>\n",
              "      <td>4</td>\n",
              "      <td>0</td>\n",
              "      <td>1</td>\n",
              "      <td>2</td>\n",
              "      <td>1</td>\n",
              "      <td>4</td>\n",
              "      <td>...</td>\n",
              "      <td>0</td>\n",
              "      <td>3</td>\n",
              "      <td>20171324167</td>\n",
              "      <td>1</td>\n",
              "      <td>New York-Newark-Jersey City, NY-NJ-PA</td>\n",
              "      <td>Metropolitan Statistical Area</td>\n",
              "      <td>New York County, Orange County, Hunterdon Coun...</td>\n",
              "      <td>New Jersey, New York, Pennsylvania</td>\n",
              "      <td>79, 87, 13, 81, 119, 25, 29, 59, 3, 85, 5, 61,...</td>\n",
              "      <td>Central, Outlying</td>\n",
              "    </tr>\n",
              "    <tr>\n",
              "      <th>...</th>\n",
              "      <td>...</td>\n",
              "      <td>...</td>\n",
              "      <td>...</td>\n",
              "      <td>...</td>\n",
              "      <td>...</td>\n",
              "      <td>...</td>\n",
              "      <td>...</td>\n",
              "      <td>...</td>\n",
              "      <td>...</td>\n",
              "      <td>...</td>\n",
              "      <td>...</td>\n",
              "      <td>...</td>\n",
              "      <td>...</td>\n",
              "      <td>...</td>\n",
              "      <td>...</td>\n",
              "      <td>...</td>\n",
              "      <td>...</td>\n",
              "      <td>...</td>\n",
              "      <td>...</td>\n",
              "      <td>...</td>\n",
              "      <td>...</td>\n",
              "    </tr>\n",
              "    <tr>\n",
              "      <th>9995</th>\n",
              "      <td>1</td>\n",
              "      <td>-9</td>\n",
              "      <td>4</td>\n",
              "      <td>-9</td>\n",
              "      <td>-9</td>\n",
              "      <td>0</td>\n",
              "      <td>0</td>\n",
              "      <td>1</td>\n",
              "      <td>-9</td>\n",
              "      <td>-9</td>\n",
              "      <td>...</td>\n",
              "      <td>0</td>\n",
              "      <td>-9</td>\n",
              "      <td>20171592338</td>\n",
              "      <td>0</td>\n",
              "      <td>Los Angeles-Long Beach-Anaheim, CA</td>\n",
              "      <td>Metropolitan Statistical Area</td>\n",
              "      <td>Orange County, Los Angeles County</td>\n",
              "      <td>California</td>\n",
              "      <td>59, 37</td>\n",
              "      <td>Central</td>\n",
              "    </tr>\n",
              "    <tr>\n",
              "      <th>9996</th>\n",
              "      <td>4</td>\n",
              "      <td>-9</td>\n",
              "      <td>4</td>\n",
              "      <td>-9</td>\n",
              "      <td>-9</td>\n",
              "      <td>0</td>\n",
              "      <td>0</td>\n",
              "      <td>1</td>\n",
              "      <td>2</td>\n",
              "      <td>-9</td>\n",
              "      <td>...</td>\n",
              "      <td>0</td>\n",
              "      <td>-9</td>\n",
              "      <td>20171399007</td>\n",
              "      <td>0</td>\n",
              "      <td>Sacramento--Roseville--Arden-Arcade, CA</td>\n",
              "      <td>Metropolitan Statistical Area</td>\n",
              "      <td>Placer County, El Dorado County, Sacramento Co...</td>\n",
              "      <td>California</td>\n",
              "      <td>61, 113, 67, 17</td>\n",
              "      <td>Central, Outlying</td>\n",
              "    </tr>\n",
              "    <tr>\n",
              "      <th>9997</th>\n",
              "      <td>4</td>\n",
              "      <td>4</td>\n",
              "      <td>4</td>\n",
              "      <td>-9</td>\n",
              "      <td>-9</td>\n",
              "      <td>0</td>\n",
              "      <td>0</td>\n",
              "      <td>1</td>\n",
              "      <td>2</td>\n",
              "      <td>-9</td>\n",
              "      <td>...</td>\n",
              "      <td>0</td>\n",
              "      <td>-9</td>\n",
              "      <td>20171595452</td>\n",
              "      <td>0</td>\n",
              "      <td>Detroit-Warren-Dearborn, MI</td>\n",
              "      <td>Metropolitan Statistical Area</td>\n",
              "      <td>St. Clair County, Lapeer County, Wayne County,...</td>\n",
              "      <td>Michigan</td>\n",
              "      <td>87, 93, 147, 99, 163, 125</td>\n",
              "      <td>Outlying, Central</td>\n",
              "    </tr>\n",
              "    <tr>\n",
              "      <th>9998</th>\n",
              "      <td>1</td>\n",
              "      <td>-9</td>\n",
              "      <td>4</td>\n",
              "      <td>-9</td>\n",
              "      <td>-9</td>\n",
              "      <td>0</td>\n",
              "      <td>0</td>\n",
              "      <td>1</td>\n",
              "      <td>2</td>\n",
              "      <td>-9</td>\n",
              "      <td>...</td>\n",
              "      <td>0</td>\n",
              "      <td>-9</td>\n",
              "      <td>20171416717</td>\n",
              "      <td>0</td>\n",
              "      <td>San Diego-Carlsbad, CA</td>\n",
              "      <td>Metropolitan Statistical Area</td>\n",
              "      <td>San Diego County</td>\n",
              "      <td>California</td>\n",
              "      <td>73</td>\n",
              "      <td>Central</td>\n",
              "    </tr>\n",
              "    <tr>\n",
              "      <th>9999</th>\n",
              "      <td>4</td>\n",
              "      <td>3</td>\n",
              "      <td>4</td>\n",
              "      <td>-9</td>\n",
              "      <td>-9</td>\n",
              "      <td>0</td>\n",
              "      <td>0</td>\n",
              "      <td>1</td>\n",
              "      <td>2</td>\n",
              "      <td>-9</td>\n",
              "      <td>...</td>\n",
              "      <td>0</td>\n",
              "      <td>-9</td>\n",
              "      <td>20171532260</td>\n",
              "      <td>0</td>\n",
              "      <td>Sacramento--Roseville--Arden-Arcade, CA</td>\n",
              "      <td>Metropolitan Statistical Area</td>\n",
              "      <td>Placer County, El Dorado County, Sacramento Co...</td>\n",
              "      <td>California</td>\n",
              "      <td>61, 113, 67, 17</td>\n",
              "      <td>Central, Outlying</td>\n",
              "    </tr>\n",
              "  </tbody>\n",
              "</table>\n",
              "<p>10000 rows × 82 columns</p>\n",
              "</div>\n",
              "      <button class=\"colab-df-convert\" onclick=\"convertToInteractive('df-339905e4-d580-4ed9-a4d7-56886352638e')\"\n",
              "              title=\"Convert this dataframe to an interactive table.\"\n",
              "              style=\"display:none;\">\n",
              "        \n",
              "  <svg xmlns=\"http://www.w3.org/2000/svg\" height=\"24px\"viewBox=\"0 0 24 24\"\n",
              "       width=\"24px\">\n",
              "    <path d=\"M0 0h24v24H0V0z\" fill=\"none\"/>\n",
              "    <path d=\"M18.56 5.44l.94 2.06.94-2.06 2.06-.94-2.06-.94-.94-2.06-.94 2.06-2.06.94zm-11 1L8.5 8.5l.94-2.06 2.06-.94-2.06-.94L8.5 2.5l-.94 2.06-2.06.94zm10 10l.94 2.06.94-2.06 2.06-.94-2.06-.94-.94-2.06-.94 2.06-2.06.94z\"/><path d=\"M17.41 7.96l-1.37-1.37c-.4-.4-.92-.59-1.43-.59-.52 0-1.04.2-1.43.59L10.3 9.45l-7.72 7.72c-.78.78-.78 2.05 0 2.83L4 21.41c.39.39.9.59 1.41.59.51 0 1.02-.2 1.41-.59l7.78-7.78 2.81-2.81c.8-.78.8-2.07 0-2.86zM5.41 20L4 18.59l7.72-7.72 1.47 1.35L5.41 20z\"/>\n",
              "  </svg>\n",
              "      </button>\n",
              "      \n",
              "  <style>\n",
              "    .colab-df-container {\n",
              "      display:flex;\n",
              "      flex-wrap:wrap;\n",
              "      gap: 12px;\n",
              "    }\n",
              "\n",
              "    .colab-df-convert {\n",
              "      background-color: #E8F0FE;\n",
              "      border: none;\n",
              "      border-radius: 50%;\n",
              "      cursor: pointer;\n",
              "      display: none;\n",
              "      fill: #1967D2;\n",
              "      height: 32px;\n",
              "      padding: 0 0 0 0;\n",
              "      width: 32px;\n",
              "    }\n",
              "\n",
              "    .colab-df-convert:hover {\n",
              "      background-color: #E2EBFA;\n",
              "      box-shadow: 0px 1px 2px rgba(60, 64, 67, 0.3), 0px 1px 3px 1px rgba(60, 64, 67, 0.15);\n",
              "      fill: #174EA6;\n",
              "    }\n",
              "\n",
              "    [theme=dark] .colab-df-convert {\n",
              "      background-color: #3B4455;\n",
              "      fill: #D2E3FC;\n",
              "    }\n",
              "\n",
              "    [theme=dark] .colab-df-convert:hover {\n",
              "      background-color: #434B5C;\n",
              "      box-shadow: 0px 1px 3px 1px rgba(0, 0, 0, 0.15);\n",
              "      filter: drop-shadow(0px 1px 2px rgba(0, 0, 0, 0.3));\n",
              "      fill: #FFFFFF;\n",
              "    }\n",
              "  </style>\n",
              "\n",
              "      <script>\n",
              "        const buttonEl =\n",
              "          document.querySelector('#df-339905e4-d580-4ed9-a4d7-56886352638e button.colab-df-convert');\n",
              "        buttonEl.style.display =\n",
              "          google.colab.kernel.accessAllowed ? 'block' : 'none';\n",
              "\n",
              "        async function convertToInteractive(key) {\n",
              "          const element = document.querySelector('#df-339905e4-d580-4ed9-a4d7-56886352638e');\n",
              "          const dataTable =\n",
              "            await google.colab.kernel.invokeFunction('convertToInteractive',\n",
              "                                                     [key], {});\n",
              "          if (!dataTable) return;\n",
              "\n",
              "          const docLinkHtml = 'Like what you see? Visit the ' +\n",
              "            '<a target=\"_blank\" href=https://colab.research.google.com/notebooks/data_table.ipynb>data table notebook</a>'\n",
              "            + ' to learn more about interactive tables.';\n",
              "          element.innerHTML = '';\n",
              "          dataTable['output_type'] = 'display_data';\n",
              "          await google.colab.output.renderOutput(dataTable, element);\n",
              "          const docLink = document.createElement('div');\n",
              "          docLink.innerHTML = docLinkHtml;\n",
              "          element.appendChild(docLink);\n",
              "        }\n",
              "      </script>\n",
              "    </div>\n",
              "  </div>\n",
              "  "
            ]
          },
          "metadata": {},
          "execution_count": 51
        }
      ]
    },
    {
      "cell_type": "code",
      "source": [
        "df['DAYWAIT']"
      ],
      "metadata": {
        "colab": {
          "base_uri": "https://localhost:8080/"
        },
        "id": "H8tBJVxivoEq",
        "outputId": "33b43e44-3d6e-4846-fcb9-96ceb977677d"
      },
      "execution_count": null,
      "outputs": [
        {
          "output_type": "execute_result",
          "data": {
            "text/plain": [
              "0       0\n",
              "1       0\n",
              "2       0\n",
              "3       0\n",
              "4      -9\n",
              "       ..\n",
              "9995    1\n",
              "9996    1\n",
              "9997    1\n",
              "9998    1\n",
              "9999    1\n",
              "Name: DAYWAIT, Length: 10000, dtype: int64"
            ]
          },
          "metadata": {},
          "execution_count": 52
        }
      ]
    },
    {
      "cell_type": "markdown",
      "source": [
        "**Step 2: Load and preprocess the dataset:**"
      ],
      "metadata": {
        "id": "FRoZYQQSuHrF"
      }
    },
    {
      "cell_type": "code",
      "source": [
        "\n",
        "# Subset the dataset to include only the relevant columns\n",
        "df_subset = df[['PREG', 'DAYWAIT', 'REASON', 'LOS']]\n"
      ],
      "metadata": {
        "id": "R1RiDd7ItZph"
      },
      "execution_count": null,
      "outputs": []
    },
    {
      "cell_type": "code",
      "source": [
        "df_subset['DAYWAIT']"
      ],
      "metadata": {
        "colab": {
          "base_uri": "https://localhost:8080/"
        },
        "id": "IwJ2OB8_vwJ_",
        "outputId": "68b23a94-34d7-4efd-ee7f-2ef876fa8c14"
      },
      "execution_count": null,
      "outputs": [
        {
          "output_type": "execute_result",
          "data": {
            "text/plain": [
              "0       0\n",
              "1       0\n",
              "2       0\n",
              "3       0\n",
              "4      -9\n",
              "       ..\n",
              "9995    1\n",
              "9996    1\n",
              "9997    1\n",
              "9998    1\n",
              "9999    1\n",
              "Name: DAYWAIT, Length: 10000, dtype: int64"
            ]
          },
          "metadata": {},
          "execution_count": 54
        }
      ]
    },
    {
      "cell_type": "code",
      "source": [
        "df_subset.isna().sum()"
      ],
      "metadata": {
        "colab": {
          "base_uri": "https://localhost:8080/"
        },
        "id": "0HH5uSDkwFBz",
        "outputId": "a69db2b1-be14-42ee-eadf-b1579e24e4c7"
      },
      "execution_count": null,
      "outputs": [
        {
          "output_type": "execute_result",
          "data": {
            "text/plain": [
              "PREG       0\n",
              "DAYWAIT    0\n",
              "REASON     0\n",
              "LOS        0\n",
              "dtype: int64"
            ]
          },
          "metadata": {},
          "execution_count": 55
        }
      ]
    },
    {
      "cell_type": "code",
      "source": [
        "# Convert DAYWAIT to categorical variable\n",
        "df_subset['DAYWAIT'].astype('category')"
      ],
      "metadata": {
        "colab": {
          "base_uri": "https://localhost:8080/"
        },
        "id": "hg1ygBy1tZvQ",
        "outputId": "26561d81-9813-4e9d-e477-225984fc587c"
      },
      "execution_count": null,
      "outputs": [
        {
          "output_type": "execute_result",
          "data": {
            "text/plain": [
              "0       0\n",
              "1       0\n",
              "2       0\n",
              "3       0\n",
              "4      -9\n",
              "       ..\n",
              "9995    1\n",
              "9996    1\n",
              "9997    1\n",
              "9998    1\n",
              "9999    1\n",
              "Name: DAYWAIT, Length: 10000, dtype: category\n",
              "Categories (6, int64): [-9, 0, 1, 2, 3, 4]"
            ]
          },
          "metadata": {},
          "execution_count": 56
        }
      ]
    },
    {
      "cell_type": "markdown",
      "source": [],
      "metadata": {
        "id": "VMqNkfOguR2-"
      }
    },
    {
      "cell_type": "markdown",
      "source": [
        "**Step 3: Fit the Kaplan-Meier survival curve and perform log-rank test for pregnant vs non-pregnant individuals:**"
      ],
      "metadata": {
        "id": "7UdhwtSguR9v"
      }
    },
    {
      "cell_type": "code",
      "source": [
        "# Subset the data for pregnant individuals\n",
        "pregnant_data = df_subset[df_subset['PREG'] == 1]\n",
        "pregnant_data\n"
      ],
      "metadata": {
        "id": "txNfwryZtZyO",
        "colab": {
          "base_uri": "https://localhost:8080/",
          "height": 423
        },
        "outputId": "7fbf4181-0eba-44db-9b5d-e9a9432ebc06"
      },
      "execution_count": null,
      "outputs": [
        {
          "output_type": "execute_result",
          "data": {
            "text/plain": [
              "      PREG  DAYWAIT  REASON  LOS\n",
              "1        1        0       4   15\n",
              "2        1        0       3   36\n",
              "11       1        0       2    5\n",
              "12       1        0       1   37\n",
              "52       1        0       1   35\n",
              "...    ...      ...     ...  ...\n",
              "9995     1        1       1   37\n",
              "9996     1        1       4   32\n",
              "9997     1        1       4   31\n",
              "9998     1        1       1   36\n",
              "9999     1        1       4   34\n",
              "\n",
              "[341 rows x 4 columns]"
            ],
            "text/html": [
              "\n",
              "  <div id=\"df-82e8d4f3-5d72-46fe-85bf-f8d271858248\">\n",
              "    <div class=\"colab-df-container\">\n",
              "      <div>\n",
              "<style scoped>\n",
              "    .dataframe tbody tr th:only-of-type {\n",
              "        vertical-align: middle;\n",
              "    }\n",
              "\n",
              "    .dataframe tbody tr th {\n",
              "        vertical-align: top;\n",
              "    }\n",
              "\n",
              "    .dataframe thead th {\n",
              "        text-align: right;\n",
              "    }\n",
              "</style>\n",
              "<table border=\"1\" class=\"dataframe\">\n",
              "  <thead>\n",
              "    <tr style=\"text-align: right;\">\n",
              "      <th></th>\n",
              "      <th>PREG</th>\n",
              "      <th>DAYWAIT</th>\n",
              "      <th>REASON</th>\n",
              "      <th>LOS</th>\n",
              "    </tr>\n",
              "  </thead>\n",
              "  <tbody>\n",
              "    <tr>\n",
              "      <th>1</th>\n",
              "      <td>1</td>\n",
              "      <td>0</td>\n",
              "      <td>4</td>\n",
              "      <td>15</td>\n",
              "    </tr>\n",
              "    <tr>\n",
              "      <th>2</th>\n",
              "      <td>1</td>\n",
              "      <td>0</td>\n",
              "      <td>3</td>\n",
              "      <td>36</td>\n",
              "    </tr>\n",
              "    <tr>\n",
              "      <th>11</th>\n",
              "      <td>1</td>\n",
              "      <td>0</td>\n",
              "      <td>2</td>\n",
              "      <td>5</td>\n",
              "    </tr>\n",
              "    <tr>\n",
              "      <th>12</th>\n",
              "      <td>1</td>\n",
              "      <td>0</td>\n",
              "      <td>1</td>\n",
              "      <td>37</td>\n",
              "    </tr>\n",
              "    <tr>\n",
              "      <th>52</th>\n",
              "      <td>1</td>\n",
              "      <td>0</td>\n",
              "      <td>1</td>\n",
              "      <td>35</td>\n",
              "    </tr>\n",
              "    <tr>\n",
              "      <th>...</th>\n",
              "      <td>...</td>\n",
              "      <td>...</td>\n",
              "      <td>...</td>\n",
              "      <td>...</td>\n",
              "    </tr>\n",
              "    <tr>\n",
              "      <th>9995</th>\n",
              "      <td>1</td>\n",
              "      <td>1</td>\n",
              "      <td>1</td>\n",
              "      <td>37</td>\n",
              "    </tr>\n",
              "    <tr>\n",
              "      <th>9996</th>\n",
              "      <td>1</td>\n",
              "      <td>1</td>\n",
              "      <td>4</td>\n",
              "      <td>32</td>\n",
              "    </tr>\n",
              "    <tr>\n",
              "      <th>9997</th>\n",
              "      <td>1</td>\n",
              "      <td>1</td>\n",
              "      <td>4</td>\n",
              "      <td>31</td>\n",
              "    </tr>\n",
              "    <tr>\n",
              "      <th>9998</th>\n",
              "      <td>1</td>\n",
              "      <td>1</td>\n",
              "      <td>1</td>\n",
              "      <td>36</td>\n",
              "    </tr>\n",
              "    <tr>\n",
              "      <th>9999</th>\n",
              "      <td>1</td>\n",
              "      <td>1</td>\n",
              "      <td>4</td>\n",
              "      <td>34</td>\n",
              "    </tr>\n",
              "  </tbody>\n",
              "</table>\n",
              "<p>341 rows × 4 columns</p>\n",
              "</div>\n",
              "      <button class=\"colab-df-convert\" onclick=\"convertToInteractive('df-82e8d4f3-5d72-46fe-85bf-f8d271858248')\"\n",
              "              title=\"Convert this dataframe to an interactive table.\"\n",
              "              style=\"display:none;\">\n",
              "        \n",
              "  <svg xmlns=\"http://www.w3.org/2000/svg\" height=\"24px\"viewBox=\"0 0 24 24\"\n",
              "       width=\"24px\">\n",
              "    <path d=\"M0 0h24v24H0V0z\" fill=\"none\"/>\n",
              "    <path d=\"M18.56 5.44l.94 2.06.94-2.06 2.06-.94-2.06-.94-.94-2.06-.94 2.06-2.06.94zm-11 1L8.5 8.5l.94-2.06 2.06-.94-2.06-.94L8.5 2.5l-.94 2.06-2.06.94zm10 10l.94 2.06.94-2.06 2.06-.94-2.06-.94-.94-2.06-.94 2.06-2.06.94z\"/><path d=\"M17.41 7.96l-1.37-1.37c-.4-.4-.92-.59-1.43-.59-.52 0-1.04.2-1.43.59L10.3 9.45l-7.72 7.72c-.78.78-.78 2.05 0 2.83L4 21.41c.39.39.9.59 1.41.59.51 0 1.02-.2 1.41-.59l7.78-7.78 2.81-2.81c.8-.78.8-2.07 0-2.86zM5.41 20L4 18.59l7.72-7.72 1.47 1.35L5.41 20z\"/>\n",
              "  </svg>\n",
              "      </button>\n",
              "      \n",
              "  <style>\n",
              "    .colab-df-container {\n",
              "      display:flex;\n",
              "      flex-wrap:wrap;\n",
              "      gap: 12px;\n",
              "    }\n",
              "\n",
              "    .colab-df-convert {\n",
              "      background-color: #E8F0FE;\n",
              "      border: none;\n",
              "      border-radius: 50%;\n",
              "      cursor: pointer;\n",
              "      display: none;\n",
              "      fill: #1967D2;\n",
              "      height: 32px;\n",
              "      padding: 0 0 0 0;\n",
              "      width: 32px;\n",
              "    }\n",
              "\n",
              "    .colab-df-convert:hover {\n",
              "      background-color: #E2EBFA;\n",
              "      box-shadow: 0px 1px 2px rgba(60, 64, 67, 0.3), 0px 1px 3px 1px rgba(60, 64, 67, 0.15);\n",
              "      fill: #174EA6;\n",
              "    }\n",
              "\n",
              "    [theme=dark] .colab-df-convert {\n",
              "      background-color: #3B4455;\n",
              "      fill: #D2E3FC;\n",
              "    }\n",
              "\n",
              "    [theme=dark] .colab-df-convert:hover {\n",
              "      background-color: #434B5C;\n",
              "      box-shadow: 0px 1px 3px 1px rgba(0, 0, 0, 0.15);\n",
              "      filter: drop-shadow(0px 1px 2px rgba(0, 0, 0, 0.3));\n",
              "      fill: #FFFFFF;\n",
              "    }\n",
              "  </style>\n",
              "\n",
              "      <script>\n",
              "        const buttonEl =\n",
              "          document.querySelector('#df-82e8d4f3-5d72-46fe-85bf-f8d271858248 button.colab-df-convert');\n",
              "        buttonEl.style.display =\n",
              "          google.colab.kernel.accessAllowed ? 'block' : 'none';\n",
              "\n",
              "        async function convertToInteractive(key) {\n",
              "          const element = document.querySelector('#df-82e8d4f3-5d72-46fe-85bf-f8d271858248');\n",
              "          const dataTable =\n",
              "            await google.colab.kernel.invokeFunction('convertToInteractive',\n",
              "                                                     [key], {});\n",
              "          if (!dataTable) return;\n",
              "\n",
              "          const docLinkHtml = 'Like what you see? Visit the ' +\n",
              "            '<a target=\"_blank\" href=https://colab.research.google.com/notebooks/data_table.ipynb>data table notebook</a>'\n",
              "            + ' to learn more about interactive tables.';\n",
              "          element.innerHTML = '';\n",
              "          dataTable['output_type'] = 'display_data';\n",
              "          await google.colab.output.renderOutput(dataTable, element);\n",
              "          const docLink = document.createElement('div');\n",
              "          docLink.innerHTML = docLinkHtml;\n",
              "          element.appendChild(docLink);\n",
              "        }\n",
              "      </script>\n",
              "    </div>\n",
              "  </div>\n",
              "  "
            ]
          },
          "metadata": {},
          "execution_count": 71
        }
      ]
    },
    {
      "cell_type": "code",
      "source": [
        "# Subset the data for non-pregnant individuals\n",
        "non_pregnant_data = df_subset[df_subset['PREG'] == 2]\n",
        "non_pregnant_data.shape"
      ],
      "metadata": {
        "id": "XUhGH1fKtZ0_",
        "colab": {
          "base_uri": "https://localhost:8080/",
          "height": 423
        },
        "outputId": "9b5f3cbf-b803-4aab-9f71-f854207aaa60"
      },
      "execution_count": null,
      "outputs": [
        {
          "output_type": "execute_result",
          "data": {
            "text/plain": [
              "      PREG  DAYWAIT  REASON  LOS\n",
              "0        2        0       6   37\n",
              "3        2        0       2   34\n",
              "4        2       -9       3   35\n",
              "10       2        0       2   33\n",
              "14       2        0       2   36\n",
              "...    ...      ...     ...  ...\n",
              "9984     2        1       4    7\n",
              "9985     2        1       4   33\n",
              "9987     2        2       4   31\n",
              "9988     2        1       4   33\n",
              "9990     2        1       4   31\n",
              "\n",
              "[3634 rows x 4 columns]"
            ],
            "text/html": [
              "\n",
              "  <div id=\"df-82c59e5f-9b9f-4cb2-b1d1-cb580835e3b3\">\n",
              "    <div class=\"colab-df-container\">\n",
              "      <div>\n",
              "<style scoped>\n",
              "    .dataframe tbody tr th:only-of-type {\n",
              "        vertical-align: middle;\n",
              "    }\n",
              "\n",
              "    .dataframe tbody tr th {\n",
              "        vertical-align: top;\n",
              "    }\n",
              "\n",
              "    .dataframe thead th {\n",
              "        text-align: right;\n",
              "    }\n",
              "</style>\n",
              "<table border=\"1\" class=\"dataframe\">\n",
              "  <thead>\n",
              "    <tr style=\"text-align: right;\">\n",
              "      <th></th>\n",
              "      <th>PREG</th>\n",
              "      <th>DAYWAIT</th>\n",
              "      <th>REASON</th>\n",
              "      <th>LOS</th>\n",
              "    </tr>\n",
              "  </thead>\n",
              "  <tbody>\n",
              "    <tr>\n",
              "      <th>0</th>\n",
              "      <td>2</td>\n",
              "      <td>0</td>\n",
              "      <td>6</td>\n",
              "      <td>37</td>\n",
              "    </tr>\n",
              "    <tr>\n",
              "      <th>3</th>\n",
              "      <td>2</td>\n",
              "      <td>0</td>\n",
              "      <td>2</td>\n",
              "      <td>34</td>\n",
              "    </tr>\n",
              "    <tr>\n",
              "      <th>4</th>\n",
              "      <td>2</td>\n",
              "      <td>-9</td>\n",
              "      <td>3</td>\n",
              "      <td>35</td>\n",
              "    </tr>\n",
              "    <tr>\n",
              "      <th>10</th>\n",
              "      <td>2</td>\n",
              "      <td>0</td>\n",
              "      <td>2</td>\n",
              "      <td>33</td>\n",
              "    </tr>\n",
              "    <tr>\n",
              "      <th>14</th>\n",
              "      <td>2</td>\n",
              "      <td>0</td>\n",
              "      <td>2</td>\n",
              "      <td>36</td>\n",
              "    </tr>\n",
              "    <tr>\n",
              "      <th>...</th>\n",
              "      <td>...</td>\n",
              "      <td>...</td>\n",
              "      <td>...</td>\n",
              "      <td>...</td>\n",
              "    </tr>\n",
              "    <tr>\n",
              "      <th>9984</th>\n",
              "      <td>2</td>\n",
              "      <td>1</td>\n",
              "      <td>4</td>\n",
              "      <td>7</td>\n",
              "    </tr>\n",
              "    <tr>\n",
              "      <th>9985</th>\n",
              "      <td>2</td>\n",
              "      <td>1</td>\n",
              "      <td>4</td>\n",
              "      <td>33</td>\n",
              "    </tr>\n",
              "    <tr>\n",
              "      <th>9987</th>\n",
              "      <td>2</td>\n",
              "      <td>2</td>\n",
              "      <td>4</td>\n",
              "      <td>31</td>\n",
              "    </tr>\n",
              "    <tr>\n",
              "      <th>9988</th>\n",
              "      <td>2</td>\n",
              "      <td>1</td>\n",
              "      <td>4</td>\n",
              "      <td>33</td>\n",
              "    </tr>\n",
              "    <tr>\n",
              "      <th>9990</th>\n",
              "      <td>2</td>\n",
              "      <td>1</td>\n",
              "      <td>4</td>\n",
              "      <td>31</td>\n",
              "    </tr>\n",
              "  </tbody>\n",
              "</table>\n",
              "<p>3634 rows × 4 columns</p>\n",
              "</div>\n",
              "      <button class=\"colab-df-convert\" onclick=\"convertToInteractive('df-82c59e5f-9b9f-4cb2-b1d1-cb580835e3b3')\"\n",
              "              title=\"Convert this dataframe to an interactive table.\"\n",
              "              style=\"display:none;\">\n",
              "        \n",
              "  <svg xmlns=\"http://www.w3.org/2000/svg\" height=\"24px\"viewBox=\"0 0 24 24\"\n",
              "       width=\"24px\">\n",
              "    <path d=\"M0 0h24v24H0V0z\" fill=\"none\"/>\n",
              "    <path d=\"M18.56 5.44l.94 2.06.94-2.06 2.06-.94-2.06-.94-.94-2.06-.94 2.06-2.06.94zm-11 1L8.5 8.5l.94-2.06 2.06-.94-2.06-.94L8.5 2.5l-.94 2.06-2.06.94zm10 10l.94 2.06.94-2.06 2.06-.94-2.06-.94-.94-2.06-.94 2.06-2.06.94z\"/><path d=\"M17.41 7.96l-1.37-1.37c-.4-.4-.92-.59-1.43-.59-.52 0-1.04.2-1.43.59L10.3 9.45l-7.72 7.72c-.78.78-.78 2.05 0 2.83L4 21.41c.39.39.9.59 1.41.59.51 0 1.02-.2 1.41-.59l7.78-7.78 2.81-2.81c.8-.78.8-2.07 0-2.86zM5.41 20L4 18.59l7.72-7.72 1.47 1.35L5.41 20z\"/>\n",
              "  </svg>\n",
              "      </button>\n",
              "      \n",
              "  <style>\n",
              "    .colab-df-container {\n",
              "      display:flex;\n",
              "      flex-wrap:wrap;\n",
              "      gap: 12px;\n",
              "    }\n",
              "\n",
              "    .colab-df-convert {\n",
              "      background-color: #E8F0FE;\n",
              "      border: none;\n",
              "      border-radius: 50%;\n",
              "      cursor: pointer;\n",
              "      display: none;\n",
              "      fill: #1967D2;\n",
              "      height: 32px;\n",
              "      padding: 0 0 0 0;\n",
              "      width: 32px;\n",
              "    }\n",
              "\n",
              "    .colab-df-convert:hover {\n",
              "      background-color: #E2EBFA;\n",
              "      box-shadow: 0px 1px 2px rgba(60, 64, 67, 0.3), 0px 1px 3px 1px rgba(60, 64, 67, 0.15);\n",
              "      fill: #174EA6;\n",
              "    }\n",
              "\n",
              "    [theme=dark] .colab-df-convert {\n",
              "      background-color: #3B4455;\n",
              "      fill: #D2E3FC;\n",
              "    }\n",
              "\n",
              "    [theme=dark] .colab-df-convert:hover {\n",
              "      background-color: #434B5C;\n",
              "      box-shadow: 0px 1px 3px 1px rgba(0, 0, 0, 0.15);\n",
              "      filter: drop-shadow(0px 1px 2px rgba(0, 0, 0, 0.3));\n",
              "      fill: #FFFFFF;\n",
              "    }\n",
              "  </style>\n",
              "\n",
              "      <script>\n",
              "        const buttonEl =\n",
              "          document.querySelector('#df-82c59e5f-9b9f-4cb2-b1d1-cb580835e3b3 button.colab-df-convert');\n",
              "        buttonEl.style.display =\n",
              "          google.colab.kernel.accessAllowed ? 'block' : 'none';\n",
              "\n",
              "        async function convertToInteractive(key) {\n",
              "          const element = document.querySelector('#df-82c59e5f-9b9f-4cb2-b1d1-cb580835e3b3');\n",
              "          const dataTable =\n",
              "            await google.colab.kernel.invokeFunction('convertToInteractive',\n",
              "                                                     [key], {});\n",
              "          if (!dataTable) return;\n",
              "\n",
              "          const docLinkHtml = 'Like what you see? Visit the ' +\n",
              "            '<a target=\"_blank\" href=https://colab.research.google.com/notebooks/data_table.ipynb>data table notebook</a>'\n",
              "            + ' to learn more about interactive tables.';\n",
              "          element.innerHTML = '';\n",
              "          dataTable['output_type'] = 'display_data';\n",
              "          await google.colab.output.renderOutput(dataTable, element);\n",
              "          const docLink = document.createElement('div');\n",
              "          docLink.innerHTML = docLinkHtml;\n",
              "          element.appendChild(docLink);\n",
              "        }\n",
              "      </script>\n",
              "    </div>\n",
              "  </div>\n",
              "  "
            ]
          },
          "metadata": {},
          "execution_count": 70
        }
      ]
    },
    {
      "cell_type": "code",
      "source": [
        "event_observed_pregnant = np.ones(len(pregnant_data['DAYWAIT']), dtype=int)\n",
        "event_observed_pregnant"
      ],
      "metadata": {
        "colab": {
          "base_uri": "https://localhost:8080/"
        },
        "id": "QYUdXhJfzSYW",
        "outputId": "594f4c33-4c7f-48e6-ffd9-00a4b66737a7"
      },
      "execution_count": null,
      "outputs": [
        {
          "output_type": "execute_result",
          "data": {
            "text/plain": [
              "array([1, 1, 1, 1, 1, 1, 1, 1, 1, 1, 1, 1, 1, 1, 1, 1, 1, 1, 1, 1, 1, 1,\n",
              "       1, 1, 1, 1, 1, 1, 1, 1, 1, 1, 1, 1, 1, 1, 1, 1, 1, 1, 1, 1, 1, 1,\n",
              "       1, 1, 1, 1, 1, 1, 1, 1, 1, 1, 1, 1, 1, 1, 1, 1, 1, 1, 1, 1, 1, 1,\n",
              "       1, 1, 1, 1, 1, 1, 1, 1, 1, 1, 1, 1, 1, 1, 1, 1, 1, 1, 1, 1, 1, 1,\n",
              "       1, 1, 1, 1, 1, 1, 1, 1, 1, 1, 1, 1, 1, 1, 1, 1, 1, 1, 1, 1, 1, 1,\n",
              "       1, 1, 1, 1, 1, 1, 1, 1, 1, 1, 1, 1, 1, 1, 1, 1, 1, 1, 1, 1, 1, 1,\n",
              "       1, 1, 1, 1, 1, 1, 1, 1, 1, 1, 1, 1, 1, 1, 1, 1, 1, 1, 1, 1, 1, 1,\n",
              "       1, 1, 1, 1, 1, 1, 1, 1, 1, 1, 1, 1, 1, 1, 1, 1, 1, 1, 1, 1, 1, 1,\n",
              "       1, 1, 1, 1, 1, 1, 1, 1, 1, 1, 1, 1, 1, 1, 1, 1, 1, 1, 1, 1, 1, 1,\n",
              "       1, 1, 1, 1, 1, 1, 1, 1, 1, 1, 1, 1, 1, 1, 1, 1, 1, 1, 1, 1, 1, 1,\n",
              "       1, 1, 1, 1, 1, 1, 1, 1, 1, 1, 1, 1, 1, 1, 1, 1, 1, 1, 1, 1, 1, 1,\n",
              "       1, 1, 1, 1, 1, 1, 1, 1, 1, 1, 1, 1, 1, 1, 1, 1, 1, 1, 1, 1, 1, 1,\n",
              "       1, 1, 1, 1, 1, 1, 1, 1, 1, 1, 1, 1, 1, 1, 1, 1, 1, 1, 1, 1, 1, 1,\n",
              "       1, 1, 1, 1, 1, 1, 1, 1, 1, 1, 1, 1, 1, 1, 1, 1, 1, 1, 1, 1, 1, 1,\n",
              "       1, 1, 1, 1, 1, 1, 1, 1, 1, 1, 1, 1, 1, 1, 1, 1, 1, 1, 1, 1, 1, 1,\n",
              "       1, 1, 1, 1, 1, 1, 1, 1, 1, 1, 1])"
            ]
          },
          "metadata": {},
          "execution_count": 68
        }
      ]
    },
    {
      "cell_type": "code",
      "source": [
        "event_observed_pregnant.shape"
      ],
      "metadata": {
        "colab": {
          "base_uri": "https://localhost:8080/"
        },
        "id": "vlAnJngPzXrX",
        "outputId": "b94253f0-3ba7-4829-864e-240ed7ca0a60"
      },
      "execution_count": null,
      "outputs": [
        {
          "output_type": "execute_result",
          "data": {
            "text/plain": [
              "(341,)"
            ]
          },
          "metadata": {},
          "execution_count": 64
        }
      ]
    },
    {
      "cell_type": "code",
      "source": [
        "pregnant_data['DAYWAIT'].shape"
      ],
      "metadata": {
        "colab": {
          "base_uri": "https://localhost:8080/"
        },
        "id": "LDaD2_Rozetr",
        "outputId": "e9e16198-4642-422d-a7ed-4b129d68eb0f"
      },
      "execution_count": null,
      "outputs": [
        {
          "output_type": "execute_result",
          "data": {
            "text/plain": [
              "(341,)"
            ]
          },
          "metadata": {},
          "execution_count": 65
        }
      ]
    },
    {
      "cell_type": "code",
      "source": [
        "event_observed_non_pregnant = np.ones(len(non_pregnant_data['DAYWAIT']), dtype=int)\n",
        "event_observed_non_pregnant.shape"
      ],
      "metadata": {
        "colab": {
          "base_uri": "https://localhost:8080/"
        },
        "id": "eM8KROB7C-Vj",
        "outputId": "f6c4fba0-528d-4a40-be52-32c15763404d"
      },
      "execution_count": null,
      "outputs": [
        {
          "output_type": "execute_result",
          "data": {
            "text/plain": [
              "(3634,)"
            ]
          },
          "metadata": {},
          "execution_count": 73
        }
      ]
    },
    {
      "cell_type": "code",
      "source": [
        "# Fit the survival curve for pregnant individuals\n",
        "kmf_pregnant = KaplanMeierFitter()\n",
        "kmf_pregnant.fit(pregnant_data['DAYWAIT'], event_observed=event_observed_pregnant, label='Pregnant')\n"
      ],
      "metadata": {
        "colab": {
          "base_uri": "https://localhost:8080/"
        },
        "id": "lwW3v9ITzxuS",
        "outputId": "2dace9f9-b8cf-4b3c-af4a-1fd948958115"
      },
      "execution_count": null,
      "outputs": [
        {
          "output_type": "execute_result",
          "data": {
            "text/plain": [
              "<lifelines.KaplanMeierFitter:\"Pregnant\", fitted with 341 total observations, 0 right-censored observations>"
            ]
          },
          "metadata": {},
          "execution_count": 66
        }
      ]
    },
    {
      "cell_type": "code",
      "source": [
        "# Fit the survival curve for non-pregnant individuals\n",
        "kmf_non_pregnant = KaplanMeierFitter()\n",
        "kmf_non_pregnant.fit(non_pregnant_data['DAYWAIT'], event_observed=event_observed_non_pregnant, label='Non-Pregnant')\n"
      ],
      "metadata": {
        "colab": {
          "base_uri": "https://localhost:8080/"
        },
        "id": "beOJX3tcB-Ig",
        "outputId": "09952860-c248-4a3b-c896-cd6d7680421e"
      },
      "execution_count": null,
      "outputs": [
        {
          "output_type": "execute_result",
          "data": {
            "text/plain": [
              "<lifelines.KaplanMeierFitter:\"Non-Pregnant\", fitted with 3634 total observations, 0 right-censored observations>"
            ]
          },
          "metadata": {},
          "execution_count": 74
        }
      ]
    },
    {
      "cell_type": "code",
      "source": [
        "\n",
        "# Perform log-rank test to compare the survival curves\n",
        "results = logrank_test(pregnant_data['DAYWAIT'], non_pregnant_data['DAYWAIT'], event_observed_A=event_observed_pregnant, event_observed_B=event_observed_non_pregnant)"
      ],
      "metadata": {
        "id": "wP53G8GzulUH"
      },
      "execution_count": null,
      "outputs": []
    },
    {
      "cell_type": "markdown",
      "source": [
        "**Step 4: Visualize the survival curves:**"
      ],
      "metadata": {
        "id": "sCofTfjKEeYO"
      }
    },
    {
      "cell_type": "code",
      "source": [
        "import matplotlib.pyplot as plt\n",
        "\n",
        "# Plot the survival curves for pregnant and non-pregnant individuals\n",
        "fig, ax = plt.subplots()\n",
        "kmf_pregnant.plot(ax=ax)\n",
        "kmf_non_pregnant.plot(ax=ax)\n",
        "\n",
        "# Add labels and legend\n",
        "plt.xlabel('Time (Days)')\n",
        "plt.ylabel('Survival Probability')\n",
        "plt.title('Survival Curves: Pregnant vs Non-Pregnant')\n",
        "plt.legend(loc='best')\n",
        "\n",
        "# Display the plot\n",
        "plt.show()\n"
      ],
      "metadata": {
        "id": "2VpHKUmXulaR",
        "colab": {
          "base_uri": "https://localhost:8080/",
          "height": 472
        },
        "outputId": "00e3405e-f133-44a2-fe28-63f5e766aca2"
      },
      "execution_count": null,
      "outputs": [
        {
          "output_type": "display_data",
          "data": {
            "text/plain": [
              "<Figure size 640x480 with 1 Axes>"
            ],
            "image/png": "[encoded data removed]"
          },
          "metadata": {}
        }
      ]
    },
    {
      "cell_type": "code",
      "source": [],
      "metadata": {
        "id": "SwjkQukZtZ3z"
      },
      "execution_count": null,
      "outputs": []
    },
    {
      "cell_type": "markdown",
      "source": [
        "**Step 5: Interpret the results:**"
      ],
      "metadata": {
        "id": "n8oVTMb0Ex5o"
      }
    },
    {
      "cell_type": "code",
      "source": [
        "print(\"Log-Rank Test Results:\")\n",
        "print(\" - Test Statistic:\", results.test_statistic)\n",
        "print(\" - P-Value:\", results.p_value)\n",
        "\n",
        "if results.p_value < 0.05:\n",
        "    print(\" - The survival curves for pregnant and non-pregnant individuals are significantly different.\")\n",
        "else:\n",
        "    print(\" - There is no significant difference in the survival curves for pregnant and non-pregnant individuals.\")\n"
      ],
      "metadata": {
        "colab": {
          "base_uri": "https://localhost:8080/"
        },
        "id": "o6CZXmUOExCC",
        "outputId": "e2b5e3f1-c50e-48b3-d327-9854cfd06559"
      },
      "execution_count": null,
      "outputs": [
        {
          "output_type": "stream",
          "name": "stdout",
          "text": [
            "Log-Rank Test Results:\n",
            " - Test Statistic: 42.96771781789348\n",
            " - P-Value: 5.5650614029254724e-11\n",
            " - The survival curves for pregnant and non-pregnant individuals are significantly different.\n"
          ]
        }
      ]
    },
    {
      "cell_type": "code",
      "source": [],
      "metadata": {
        "id": "GaIFnjlfExFB"
      },
      "execution_count": null,
      "outputs": []
    },
    {
      "cell_type": "markdown",
      "source": [
        "If the survival curve for non-pregnant individuals is on top of the curve for pregnant individuals, it suggests that non-pregnant individuals have lower survival times (i.e., shorter waiting times for treatment initiation) compared to pregnant individuals. In other words, non-pregnant individuals tend to receive treatment earlier than pregnant individuals.\n",
        "The positioning of the curves on the plot indicates the relative survival probabilities over time. When one curve is consistently above the other, it implies that the group associated with the higher curve has better survival outcomes or experiences the event (treatment initiation) at a faster rate.\n"
      ],
      "metadata": {
        "id": "4fWnUEGwJZIb"
      }
    },
    {
      "cell_type": "code",
      "source": [],
      "metadata": {
        "id": "2rNSdAZeExH6"
      },
      "execution_count": null,
      "outputs": []
    },
    {
      "cell_type": "code",
      "source": [],
      "metadata": {
        "id": "aY8f6YGjExKs"
      },
      "execution_count": null,
      "outputs": []
    },
    {
      "cell_type": "code",
      "source": [],
      "metadata": {
        "id": "kN2fnOIbtZ7W"
      },
      "execution_count": null,
      "outputs": []
    }
  ]
}